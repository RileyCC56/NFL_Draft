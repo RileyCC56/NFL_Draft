{
 "cells": [
  {
   "cell_type": "code",
   "execution_count": 9,
   "id": "ee80ad4f",
   "metadata": {},
   "outputs": [],
   "source": [
    "# Import data manipulation modules\n",
    "import pandas as pd\n",
    "import os\n",
    "import numpy as np\n",
    "\n",
    "# Import data visualization modules\n",
    "import matplotlib as mpl\n",
    "import matplotlib.pyplot as plt"
   ]
  },
  {
   "cell_type": "code",
   "execution_count": 13,
   "id": "6bf619ce",
   "metadata": {},
   "outputs": [
    {
     "data": {
      "text/html": [
       "<div>\n",
       "<style scoped>\n",
       "    .dataframe tbody tr th:only-of-type {\n",
       "        vertical-align: middle;\n",
       "    }\n",
       "\n",
       "    .dataframe tbody tr th {\n",
       "        vertical-align: top;\n",
       "    }\n",
       "\n",
       "    .dataframe thead th {\n",
       "        text-align: right;\n",
       "    }\n",
       "</style>\n",
       "<table border=\"1\" class=\"dataframe\">\n",
       "  <thead>\n",
       "    <tr style=\"text-align: right;\">\n",
       "      <th></th>\n",
       "      <th>Year</th>\n",
       "      <th>Rnd</th>\n",
       "      <th>Pick</th>\n",
       "      <th>Player</th>\n",
       "      <th>Pos</th>\n",
       "      <th>DrAge</th>\n",
       "      <th>Tm</th>\n",
       "      <th>From</th>\n",
       "      <th>To</th>\n",
       "      <th>AP1</th>\n",
       "      <th>PB</th>\n",
       "      <th>St</th>\n",
       "      <th>CarAV</th>\n",
       "      <th>G</th>\n",
       "      <th>GS</th>\n",
       "      <th>College/Univ</th>\n",
       "    </tr>\n",
       "  </thead>\n",
       "  <tbody>\n",
       "    <tr>\n",
       "      <th>0</th>\n",
       "      <td>2021</td>\n",
       "      <td>1</td>\n",
       "      <td>1</td>\n",
       "      <td>Trevor Lawrence\\LawrTr00</td>\n",
       "      <td>QB</td>\n",
       "      <td>21.0</td>\n",
       "      <td>JAX</td>\n",
       "      <td>2021.0</td>\n",
       "      <td>2021.0</td>\n",
       "      <td>0</td>\n",
       "      <td>0</td>\n",
       "      <td>0</td>\n",
       "      <td>0.0</td>\n",
       "      <td>9.0</td>\n",
       "      <td>9.0</td>\n",
       "      <td>Clemson</td>\n",
       "    </tr>\n",
       "    <tr>\n",
       "      <th>1</th>\n",
       "      <td>2021</td>\n",
       "      <td>1</td>\n",
       "      <td>2</td>\n",
       "      <td>Zach Wilson\\WilsZa00</td>\n",
       "      <td>QB</td>\n",
       "      <td>22.0</td>\n",
       "      <td>NYJ</td>\n",
       "      <td>2021.0</td>\n",
       "      <td>2021.0</td>\n",
       "      <td>0</td>\n",
       "      <td>0</td>\n",
       "      <td>0</td>\n",
       "      <td>0.0</td>\n",
       "      <td>6.0</td>\n",
       "      <td>6.0</td>\n",
       "      <td>BYU</td>\n",
       "    </tr>\n",
       "    <tr>\n",
       "      <th>2</th>\n",
       "      <td>2021</td>\n",
       "      <td>1</td>\n",
       "      <td>3</td>\n",
       "      <td>Trey Lance\\LancTr00</td>\n",
       "      <td>QB</td>\n",
       "      <td>21.0</td>\n",
       "      <td>SFO</td>\n",
       "      <td>2021.0</td>\n",
       "      <td>2021.0</td>\n",
       "      <td>0</td>\n",
       "      <td>0</td>\n",
       "      <td>0</td>\n",
       "      <td>0.0</td>\n",
       "      <td>4.0</td>\n",
       "      <td>1.0</td>\n",
       "      <td>North Dakota St.</td>\n",
       "    </tr>\n",
       "    <tr>\n",
       "      <th>3</th>\n",
       "      <td>2021</td>\n",
       "      <td>1</td>\n",
       "      <td>4</td>\n",
       "      <td>Kyle Pitts\\PittKy00</td>\n",
       "      <td>TE</td>\n",
       "      <td>20.0</td>\n",
       "      <td>ATL</td>\n",
       "      <td>2021.0</td>\n",
       "      <td>2021.0</td>\n",
       "      <td>0</td>\n",
       "      <td>0</td>\n",
       "      <td>0</td>\n",
       "      <td>0.0</td>\n",
       "      <td>10.0</td>\n",
       "      <td>9.0</td>\n",
       "      <td>Florida</td>\n",
       "    </tr>\n",
       "    <tr>\n",
       "      <th>4</th>\n",
       "      <td>2021</td>\n",
       "      <td>1</td>\n",
       "      <td>5</td>\n",
       "      <td>Ja'Marr Chase\\ChasJa00</td>\n",
       "      <td>WR</td>\n",
       "      <td>21.0</td>\n",
       "      <td>CIN</td>\n",
       "      <td>2021.0</td>\n",
       "      <td>2021.0</td>\n",
       "      <td>0</td>\n",
       "      <td>0</td>\n",
       "      <td>0</td>\n",
       "      <td>0.0</td>\n",
       "      <td>9.0</td>\n",
       "      <td>9.0</td>\n",
       "      <td>LSU</td>\n",
       "    </tr>\n",
       "  </tbody>\n",
       "</table>\n",
       "</div>"
      ],
      "text/plain": [
       "   Year  Rnd  Pick                    Player Pos  DrAge   Tm    From      To  \\\n",
       "0  2021    1     1  Trevor Lawrence\\LawrTr00  QB   21.0  JAX  2021.0  2021.0   \n",
       "1  2021    1     2      Zach Wilson\\WilsZa00  QB   22.0  NYJ  2021.0  2021.0   \n",
       "2  2021    1     3       Trey Lance\\LancTr00  QB   21.0  SFO  2021.0  2021.0   \n",
       "3  2021    1     4       Kyle Pitts\\PittKy00  TE   20.0  ATL  2021.0  2021.0   \n",
       "4  2021    1     5    Ja'Marr Chase\\ChasJa00  WR   21.0  CIN  2021.0  2021.0   \n",
       "\n",
       "   AP1  PB  St  CarAV     G   GS      College/Univ  \n",
       "0    0   0   0    0.0   9.0  9.0           Clemson  \n",
       "1    0   0   0    0.0   6.0  6.0               BYU  \n",
       "2    0   0   0    0.0   4.0  1.0  North Dakota St.  \n",
       "3    0   0   0    0.0  10.0  9.0           Florida  \n",
       "4    0   0   0    0.0   9.0  9.0               LSU  "
      ]
     },
     "execution_count": 13,
     "metadata": {},
     "output_type": "execute_result"
    }
   ],
   "source": [
    "draft_df = pd.read_csv('./Resources/Draft_data.csv')\n",
    "draft_df.head()"
   ]
  },
  {
   "cell_type": "code",
   "execution_count": 16,
   "id": "6dec8a67",
   "metadata": {},
   "outputs": [
    {
     "data": {
      "text/plain": [
       "Year            5512\n",
       "Rnd             5512\n",
       "Pick            5512\n",
       "Player          5512\n",
       "Pos             5512\n",
       "DrAge           5252\n",
       "Tm              5512\n",
       "From            4959\n",
       "To              4959\n",
       "AP1             5512\n",
       "PB              5512\n",
       "St              5512\n",
       "CarAV           4959\n",
       "G               4959\n",
       "GS              4959\n",
       "College/Univ    5501\n",
       "dtype: int64"
      ]
     },
     "execution_count": 16,
     "metadata": {},
     "output_type": "execute_result"
    }
   ],
   "source": [
    "# Determine if there are any missing values in school data\n",
    "draft_df.count()"
   ]
  },
  {
   "cell_type": "code",
   "execution_count": 17,
   "id": "e8da6f14",
   "metadata": {},
   "outputs": [
    {
     "data": {
      "text/plain": [
       "Year              int64\n",
       "Rnd               int64\n",
       "Pick              int64\n",
       "Player           object\n",
       "Pos              object\n",
       "DrAge           float64\n",
       "Tm               object\n",
       "From            float64\n",
       "To              float64\n",
       "AP1               int64\n",
       "PB                int64\n",
       "St                int64\n",
       "CarAV           float64\n",
       "G               float64\n",
       "GS              float64\n",
       "College/Univ     object\n",
       "dtype: object"
      ]
     },
     "execution_count": 17,
     "metadata": {},
     "output_type": "execute_result"
    }
   ],
   "source": [
    "# determine data type for DataFrame\n",
    "draft_df.dtypes"
   ]
  },
  {
   "cell_type": "code",
   "execution_count": null,
   "id": "f22bed03",
   "metadata": {},
   "outputs": [],
   "source": [
    "# combine the data into a single dataset\n",
    "\n",
    "#school_data_complete_df = pd.merge(student_data_df, school_data_df, on=[\"school_name\", \"school_name\"])\n",
    "#school_data_complete_df.head()"
   ]
  },
  {
   "cell_type": "code",
   "execution_count": null,
   "id": "6c34f05f",
   "metadata": {},
   "outputs": [],
   "source": [
    "# get the total number of students\n",
    "student_count = school_data_complete_df.count()\n",
    "student_count"
   ]
  },
  {
   "cell_type": "code",
   "execution_count": null,
   "id": "cb4db9d3",
   "metadata": {},
   "outputs": [],
   "source": []
  }
 ],
 "metadata": {
  "kernelspec": {
   "display_name": "PythonData",
   "language": "python",
   "name": "pythondata"
  },
  "language_info": {
   "codemirror_mode": {
    "name": "ipython",
    "version": 3
   },
   "file_extension": ".py",
   "mimetype": "text/x-python",
   "name": "python",
   "nbconvert_exporter": "python",
   "pygments_lexer": "ipython3",
   "version": "3.9.4"
  }
 },
 "nbformat": 4,
 "nbformat_minor": 5
}
