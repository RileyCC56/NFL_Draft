{
 "cells": [
  {
   "cell_type": "code",
   "execution_count": 1,
   "id": "9149c3a0",
   "metadata": {},
   "outputs": [],
   "source": [
    "# Import scraping modules\n",
    "from urllib.request import urlopen\n",
    "from bs4 import BeautifulSoup"
   ]
  },
  {
   "cell_type": "code",
   "execution_count": 2,
   "id": "f05870b7",
   "metadata": {},
   "outputs": [],
   "source": [
    "# Import data manipulation modules\n",
    "import pandas as pd\n",
    "import numpy as np\n",
    "\n",
    "# Import data visualization modules\n",
    "import matplotlib as mpl\n",
    "import matplotlib.pyplot as plt"
   ]
  },
  {
   "cell_type": "code",
   "execution_count": 3,
   "id": "b41c1498",
   "metadata": {},
   "outputs": [],
   "source": [
    "# URL of page\n",
    "url = 'https://www.pro-football-reference.com/years/2021/draft.htm'\n",
    "\n",
    "# Open URL and pass to BeautifulSoup\n",
    "html = urlopen(url)\n",
    "draft_page = BeautifulSoup(html)"
   ]
  },
  {
   "cell_type": "code",
   "execution_count": 4,
   "id": "7df28919",
   "metadata": {},
   "outputs": [],
   "source": [
    "# Collect table headers\n",
    "column_headers = draft_page.findAll('tr')[1]\n",
    "column_headers = [i.getText() for i in column_headers.findAll('th')]"
   ]
  },
  {
   "cell_type": "code",
   "execution_count": 5,
   "id": "527f881c",
   "metadata": {},
   "outputs": [
    {
     "name": "stdout",
     "output_type": "stream",
     "text": [
      "['Rnd', 'Pick', 'Tm', 'Player', 'Pos', 'Age', 'To', 'AP1', 'PB', 'St', 'CarAV', 'DrAV', 'G', 'Cmp', 'Att', 'Yds', 'TD', 'Int', 'Att', 'Yds', 'TD', 'Rec', 'Yds', 'TD', 'Solo', 'Int', 'Sk', 'College/Univ', '']\n"
     ]
    }
   ],
   "source": [
    "print(column_headers)"
   ]
  },
  {
   "cell_type": "code",
   "execution_count": 6,
   "id": "cec893ba",
   "metadata": {},
   "outputs": [],
   "source": [
    "# Collect table rows\n",
    "rows = draft_page.findAll('tr')[1:]\n",
    "\n",
    "# Get stats from each row\n",
    "qb_stats = []\n",
    "for i in range(len(rows)):\n",
    "    qb_stats.append([col.getText() for col in rows[i].findAll('td')])"
   ]
  },
  {
   "cell_type": "code",
   "execution_count": 7,
   "id": "deb982ba",
   "metadata": {},
   "outputs": [],
   "source": [
    "# Create DataFrame from our scraped data\n",
    "data = pd.DataFrame(qb_stats, columns=column_headers[1:])"
   ]
  },
  {
   "cell_type": "code",
   "execution_count": 8,
   "id": "c84cf91c",
   "metadata": {},
   "outputs": [
    {
     "name": "stdout",
     "output_type": "stream",
     "text": [
      "['Rnd', 'Pick', 'Tm', 'Player', 'Pos', 'Age', 'To', 'AP1', 'PB', 'St', 'CarAV', 'DrAV', 'G', 'Cmp', 'Att', 'Yds', 'TD', 'Int', 'Att', 'Yds', 'TD', 'Rec', 'Yds', 'TD', 'Solo', 'Int', 'Sk', 'College/Univ', '']\n"
     ]
    }
   ],
   "source": [
    "print(column_headers)"
   ]
  },
  {
   "cell_type": "code",
   "execution_count": 11,
   "id": "cdb82ae9",
   "metadata": {},
   "outputs": [
    {
     "data": {
      "text/html": [
       "<div>\n",
       "<style scoped>\n",
       "    .dataframe tbody tr th:only-of-type {\n",
       "        vertical-align: middle;\n",
       "    }\n",
       "\n",
       "    .dataframe tbody tr th {\n",
       "        vertical-align: top;\n",
       "    }\n",
       "\n",
       "    .dataframe thead th {\n",
       "        text-align: right;\n",
       "    }\n",
       "</style>\n",
       "<table border=\"1\" class=\"dataframe\">\n",
       "  <thead>\n",
       "    <tr style=\"text-align: right;\">\n",
       "      <th></th>\n",
       "      <th>Pick</th>\n",
       "      <th>Tm</th>\n",
       "      <th>Player</th>\n",
       "      <th>Pos</th>\n",
       "      <th>Age</th>\n",
       "      <th>To</th>\n",
       "      <th>AP1</th>\n",
       "      <th>PB</th>\n",
       "      <th>St</th>\n",
       "      <th>CarAV</th>\n",
       "      <th>...</th>\n",
       "      <th>Yds</th>\n",
       "      <th>TD</th>\n",
       "      <th>Rec</th>\n",
       "      <th>Yds</th>\n",
       "      <th>TD</th>\n",
       "      <th>Solo</th>\n",
       "      <th>Int</th>\n",
       "      <th>Sk</th>\n",
       "      <th>College/Univ</th>\n",
       "      <th></th>\n",
       "    </tr>\n",
       "  </thead>\n",
       "  <tbody>\n",
       "    <tr>\n",
       "      <th>0</th>\n",
       "      <td>None</td>\n",
       "      <td>None</td>\n",
       "      <td>None</td>\n",
       "      <td>None</td>\n",
       "      <td>None</td>\n",
       "      <td>None</td>\n",
       "      <td>None</td>\n",
       "      <td>None</td>\n",
       "      <td>None</td>\n",
       "      <td>None</td>\n",
       "      <td>...</td>\n",
       "      <td>None</td>\n",
       "      <td>None</td>\n",
       "      <td>None</td>\n",
       "      <td>None</td>\n",
       "      <td>None</td>\n",
       "      <td>None</td>\n",
       "      <td>None</td>\n",
       "      <td>None</td>\n",
       "      <td>None</td>\n",
       "      <td>None</td>\n",
       "    </tr>\n",
       "    <tr>\n",
       "      <th>1</th>\n",
       "      <td>1</td>\n",
       "      <td>JAX</td>\n",
       "      <td>Trevor Lawrence</td>\n",
       "      <td>QB</td>\n",
       "      <td>21</td>\n",
       "      <td>2021</td>\n",
       "      <td>0</td>\n",
       "      <td>0</td>\n",
       "      <td>0</td>\n",
       "      <td>0</td>\n",
       "      <td>...</td>\n",
       "      <td>169</td>\n",
       "      <td>2</td>\n",
       "      <td>0</td>\n",
       "      <td>0</td>\n",
       "      <td>0</td>\n",
       "      <td></td>\n",
       "      <td></td>\n",
       "      <td></td>\n",
       "      <td>Clemson</td>\n",
       "      <td>College Stats</td>\n",
       "    </tr>\n",
       "    <tr>\n",
       "      <th>2</th>\n",
       "      <td>2</td>\n",
       "      <td>NYJ</td>\n",
       "      <td>Zach Wilson</td>\n",
       "      <td>QB</td>\n",
       "      <td>22</td>\n",
       "      <td>2021</td>\n",
       "      <td>0</td>\n",
       "      <td>0</td>\n",
       "      <td>0</td>\n",
       "      <td>0</td>\n",
       "      <td>...</td>\n",
       "      <td>22</td>\n",
       "      <td>0</td>\n",
       "      <td>0</td>\n",
       "      <td>0</td>\n",
       "      <td>0</td>\n",
       "      <td></td>\n",
       "      <td></td>\n",
       "      <td></td>\n",
       "      <td>BYU</td>\n",
       "      <td>College Stats</td>\n",
       "    </tr>\n",
       "    <tr>\n",
       "      <th>3</th>\n",
       "      <td>3</td>\n",
       "      <td>SFO</td>\n",
       "      <td>Trey Lance</td>\n",
       "      <td>QB</td>\n",
       "      <td>21</td>\n",
       "      <td>2021</td>\n",
       "      <td>0</td>\n",
       "      <td>0</td>\n",
       "      <td>0</td>\n",
       "      <td>0</td>\n",
       "      <td>...</td>\n",
       "      <td>133</td>\n",
       "      <td>1</td>\n",
       "      <td>0</td>\n",
       "      <td>0</td>\n",
       "      <td>0</td>\n",
       "      <td></td>\n",
       "      <td></td>\n",
       "      <td></td>\n",
       "      <td>North Dakota St.</td>\n",
       "      <td>College Stats</td>\n",
       "    </tr>\n",
       "    <tr>\n",
       "      <th>4</th>\n",
       "      <td>4</td>\n",
       "      <td>ATL</td>\n",
       "      <td>Kyle Pitts</td>\n",
       "      <td>TE</td>\n",
       "      <td>20</td>\n",
       "      <td>2021</td>\n",
       "      <td>0</td>\n",
       "      <td>0</td>\n",
       "      <td>0</td>\n",
       "      <td>0</td>\n",
       "      <td>...</td>\n",
       "      <td>0</td>\n",
       "      <td>0</td>\n",
       "      <td>40</td>\n",
       "      <td>606</td>\n",
       "      <td>1</td>\n",
       "      <td>2</td>\n",
       "      <td></td>\n",
       "      <td></td>\n",
       "      <td>Florida</td>\n",
       "      <td>College Stats</td>\n",
       "    </tr>\n",
       "  </tbody>\n",
       "</table>\n",
       "<p>5 rows × 28 columns</p>\n",
       "</div>"
      ],
      "text/plain": [
       "   Pick    Tm           Player   Pos   Age    To   AP1    PB    St CarAV  ...  \\\n",
       "0  None  None             None  None  None  None  None  None  None  None  ...   \n",
       "1     1   JAX  Trevor Lawrence    QB    21  2021     0     0     0     0  ...   \n",
       "2     2   NYJ      Zach Wilson    QB    22  2021     0     0     0     0  ...   \n",
       "3     3   SFO       Trey Lance    QB    21  2021     0     0     0     0  ...   \n",
       "4     4   ATL       Kyle Pitts    TE    20  2021     0     0     0     0  ...   \n",
       "\n",
       "    Yds    TD   Rec   Yds    TD  Solo   Int    Sk      College/Univ  \\\n",
       "0  None  None  None  None  None  None  None  None              None   \n",
       "1   169     2     0     0     0                             Clemson   \n",
       "2    22     0     0     0     0                                 BYU   \n",
       "3   133     1     0     0     0                    North Dakota St.   \n",
       "4     0     0    40   606     1     2                       Florida   \n",
       "\n",
       "                  \n",
       "0           None  \n",
       "1  College Stats  \n",
       "2  College Stats  \n",
       "3  College Stats  \n",
       "4  College Stats  \n",
       "\n",
       "[5 rows x 28 columns]"
      ]
     },
     "execution_count": 11,
     "metadata": {},
     "output_type": "execute_result"
    }
   ],
   "source": [
    "# Examine first five rows of data\n",
    "data.head()"
   ]
  },
  {
   "cell_type": "code",
   "execution_count": 10,
   "id": "0964d07a",
   "metadata": {},
   "outputs": [
    {
     "data": {
      "text/plain": [
       "Index(['Pick', 'Tm', 'Player', 'Pos', 'Age', 'To', 'AP1', 'PB', 'St', 'CarAV',\n",
       "       'DrAV', 'G', 'Cmp', 'Att', 'Yds', 'TD', 'Int', 'Att', 'Yds', 'TD',\n",
       "       'Rec', 'Yds', 'TD', 'Solo', 'Int', 'Sk', 'College/Univ', ''],\n",
       "      dtype='object')"
      ]
     },
     "execution_count": 10,
     "metadata": {},
     "output_type": "execute_result"
    }
   ],
   "source": [
    "data.columns"
   ]
  },
  {
   "cell_type": "code",
   "execution_count": null,
   "id": "ccc23d58",
   "metadata": {},
   "outputs": [],
   "source": []
  }
 ],
 "metadata": {
  "kernelspec": {
   "display_name": "PythonData",
   "language": "python",
   "name": "pythondata"
  },
  "language_info": {
   "codemirror_mode": {
    "name": "ipython",
    "version": 3
   },
   "file_extension": ".py",
   "mimetype": "text/x-python",
   "name": "python",
   "nbconvert_exporter": "python",
   "pygments_lexer": "ipython3",
   "version": "3.9.4"
  }
 },
 "nbformat": 4,
 "nbformat_minor": 5
}
